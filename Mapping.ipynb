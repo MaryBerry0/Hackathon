{
 "cells": [
  {
   "cell_type": "markdown",
   "id": "02839849",
   "metadata": {},
   "source": [
    "This notebook will complete the mapping tasks over the Hackathon data. "
   ]
  },
  {
   "cell_type": "code",
   "execution_count": 30,
   "id": "e6c674d7",
   "metadata": {},
   "outputs": [],
   "source": [
    "import numpy as np \n",
    "import pandas as pd\n",
    "import difflib as diff\n",
    "\n",
    "import matplotlib.pyplot as plt"
   ]
  },
  {
   "cell_type": "markdown",
   "id": "b788c626",
   "metadata": {},
   "source": [
    "Take the columns from the attached file Agriculture Dataset_text.csv other than Area and Year and find the names of the products within them (for example the third column is Cereals excluding rice)."
   ]
  },
  {
   "cell_type": "markdown",
   "id": "5e64b8b6",
   "metadata": {},
   "source": [
    "Take the above names and for each find the best match in the Shrt_Desc column of the attached ABBREV.xlsx. Record these matches in some form of file or mapping. This can be done by hand or by code, there are only 14 unique products in the file."
   ]
  },
  {
   "cell_type": "markdown",
   "id": "fc969b34",
   "metadata": {},
   "source": [
    "Take the remaining nutritional columns in ABBREV.xlsx ( from Water_(g) onwards) and map them to the daily nutritional requirements data in the attached file daily_nutrients.xlsx. Again this can be done by hand or by code. Not everything will have an equivalent."
   ]
  },
  {
   "cell_type": "code",
   "execution_count": null,
   "id": "43296466",
   "metadata": {},
   "outputs": [],
   "source": [
    "The following code block will load the data. "
   ]
  },
  {
   "cell_type": "code",
   "execution_count": 22,
   "id": "7741155a",
   "metadata": {},
   "outputs": [],
   "source": [
    "agg_df = pd.read_csv(filepath_or_buffer=\"Agriculture_Dataset_text.csv\", encoding_errors='ignore')\n",
    "abb_df = pd.read_excel(io=\"ABBREV.xlsx\")"
   ]
  },
  {
   "cell_type": "markdown",
   "id": "2dbbb421",
   "metadata": {},
   "source": [
    "The following code block will isolate and clean the column names. "
   ]
  },
  {
   "cell_type": "code",
   "execution_count": 112,
   "id": "122d083f",
   "metadata": {},
   "outputs": [
    {
     "name": "stdout",
     "output_type": "stream",
     "text": [
      "['Milk, whole fresh cow', 'Meat, cattle', 'Milk, whole fresh camel', 'Milk, whole fresh goat', 'Meat, goat', 'Milk, whole fresh sheep', 'Rice, paddy', 'Eggs, hen, in shell', 'Meat, chicken', 'Meat, buffalo', 'Meat, pig', 'Milk, whole fresh buffalo', 'Cereals excluding rice', 'Meat, sheep']\n"
     ]
    }
   ],
   "source": [
    "names = agg_df.columns\n",
    "\n",
    "# Remove Area and Year \n",
    "names = names[2:]\n",
    "names = names.values\n",
    "\n",
    "# Remove the extensions of the names\n",
    "for i in range(len(names)): \n",
    "    names[i] = names[i].split(\"-\", 1)[0]\n",
    "    \n",
    "# Remove duplicates (does not maintain element order)\n",
    "names = set(names)\n",
    "names = list(names)\n",
    "\n",
    "# Show result\n",
    "print(names)"
   ]
  },
  {
   "cell_type": "code",
   "execution_count": null,
   "id": "2eb8d9db",
   "metadata": {},
   "outputs": [],
   "source": [
    "The following code block will retrieve the short descriptions. "
   ]
  },
  {
   "cell_type": "code",
   "execution_count": 46,
   "id": "fe2040d7",
   "metadata": {},
   "outputs": [],
   "source": [
    "desc = abb_df.Shrt_Desc\n",
    "desc = desc.values "
   ]
  },
  {
   "cell_type": "markdown",
   "id": "3d2c3dc7",
   "metadata": {},
   "source": [
    "The following block of code will obtain descriptions for products, such that the best match can be determined by eye. "
   ]
  },
  {
   "cell_type": "code",
   "execution_count": 58,
   "id": "d01a1bdf",
   "metadata": {},
   "outputs": [],
   "source": [
    "milk_desc = pd.DataFrame([i for i in desc if i.startswith('MILK')], columns=[\"Desc\"])\n",
    "beef_desc = pd.DataFrame([i for i in desc if i.startswith('BEEF')], columns=[\"Desc\"])\n",
    "goat_desc = pd.DataFrame([i for i in desc if i.startswith('GOAT')], columns=[\"Desc\"])\n",
    "rice_desc = pd.DataFrame([i for i in desc if i.startswith('RICE')], columns=[\"Desc\"])\n",
    "eggs_desc = pd.DataFrame([i for i in desc if i.startswith('EGG')], columns=[\"Desc\"])\n",
    "chicken_desc = pd.DataFrame([i for i in desc if i.startswith('CHICKEN')], columns=[\"Desc\"])\n",
    "buffalo_desc = pd.DataFrame([i for i in desc if i.startswith('GAME MEAT,BUFFALO')], columns=[\"Desc\"])\n",
    "pig_desc = pd.DataFrame([i for i in desc if i.startswith('PORK')], columns=[\"Desc\"])\n",
    "cereals_exc_rice_desc = pd.DataFrame([i for i in desc if (i.startswith('CEREALS') and 'RICE' not in i)], columns=[\"Desc\"])\n",
    "sheep_desc = pd.DataFrame([i for i in desc if i.startswith('LAMB')], columns=[\"Desc\"])"
   ]
  },
  {
   "cell_type": "code",
   "execution_count": 68,
   "id": "0180e224",
   "metadata": {},
   "outputs": [],
   "source": [
    "milk_desc.to_csv(path_or_buf=\"data/milk_desc.csv\", sep=\"\\t\", index=False)"
   ]
  },
  {
   "cell_type": "markdown",
   "id": "db832994",
   "metadata": {},
   "source": [
    "The following code block will export each description dataframe as a csv file. The separator used is a tab which will separate some of the components of the descriptions to make for a clearer presentation. "
   ]
  },
  {
   "cell_type": "code",
   "execution_count": 69,
   "id": "8d5dda72",
   "metadata": {},
   "outputs": [],
   "source": [
    "# Create milk descriptions file \n",
    "milk_desc.to_csv(path_or_buf=\"data/milk_desc.csv\", sep=\"\\t\", index=False)\n",
    "# Create beef description file \n",
    "beef_desc.to_csv(path_or_buf=\"data/beef_desc.csv\", sep=\"\\t\", index=False)\n",
    "# Create goat description file \n",
    "goat_desc.to_csv(path_or_buf=\"data/goat_desc.csv\", sep=\"\\t\", index=False)\n",
    "# Create rice description file \n",
    "rice_desc.to_csv(path_or_buf=\"data/rice_desc.csv\", sep=\"\\t\", index=False)\n",
    "# Create eggs description file \n",
    "eggs_desc.to_csv(path_or_buf=\"data/eggs_desc.csv\", sep=\"\\t\", index=False)\n",
    "# Create chicken description file \n",
    "chicken_desc.to_csv(path_or_buf=\"data/chicken_desc.csv\", sep=\"\\t\", index=False)\n",
    "# Create buffalo description file \n",
    "buffalo_desc.to_csv(path_or_buf=\"data/buffalo_desc.csv\", sep=\"\\t\", index=False)\n",
    "# Create pig description file \n",
    "pig_desc.to_csv(path_or_buf=\"data/pig_desc.csv\", sep=\"\\t\", index=False)\n",
    "# Create cereals excluding rice description file \n",
    "cereals_exc_rice_desc.to_csv(path_or_buf=\"data/cereals_exc_rice.csv\", sep=\"\\t\", index=False)\n",
    "# Create sheep description file \n",
    "sheep_desc.to_csv(path_or_buf=\"data/sheep.csv\", sep=\"\\t\", index=False)"
   ]
  },
  {
   "cell_type": "markdown",
   "id": "5d73a426",
   "metadata": {},
   "source": [
    "This markdown will detail the pencil-and-papers process of looking for sensible matches using the description tables generated. \n",
    "\n",
    "Target: Milk, whole fresh cow \n",
    "Match: (Row 44) (Index 42) MILK,WHL,3.25 MILKFAT,W/O ADDED VIT A & VITAMIN D \n",
    "\n",
    "---\n",
    "\n",
    "Target: Meat, cattle \n",
    "Match: (Row 10) BEEF,GRASS-FED,GROUND,RAW \n",
    "\n",
    "Grass fed beef is a good repesentative, supposing nutritional values are changed by different farming methods. \n",
    "Likewise, I would think LN&FAT / whole beef is a good representative. Ground beef can be made from a variety and combination of cuts. \n",
    "Hence, I would think the raw grass-fed ground beef is a good nutritional measure. \n",
    "\n",
    "What about beef carcass? Could that be a better representative? \n",
    "\n",
    "---\n",
    "\n",
    "Target: Milk, whole fresh camel \n",
    "Match: (Row 44) MILK,WHL,3.25 MILKFAT,W/OADDED VIT A & VITAMIN D \n",
    "\n",
    "I can't find an example of Camel's milk. Google says: \"When it comes to calorie, protein, and carb content, camel milk is comparable to whole cow's milk. However, it's lower in saturated fat and offers more vitamin C, B vitamins, calcium, iron, and potassium\" \n",
    "\n",
    "---\n",
    "\n",
    "Target: Milk, whole fresh goat \n",
    "Match: (Row 30) MILK,GOAT,FLUID,W/ ADDED VITAMIN D \n",
    "\n",
    "Only example of Goat's milk which I could find. \n",
    "\n",
    "---\n",
    "\n",
    "Target: Meat, goat \n",
    "Match: (Row 2) GOAT,RAW \n",
    "\n",
    "Only example of RAW goat which I could find. \n",
    "\n",
    "---\n",
    "\n",
    "Target: Milk, whole fresh sheep \n",
    "Match: (Row 33) MILK,SHEEP,FLUID \n",
    "\n",
    "Only example of sheep's milk which I can find. \n",
    "\n",
    "---\n",
    "\n",
    "Target: Rice, paddy\n",
    "Match: (Row 16) RICE,WHITE,LONG-GRAIN,REG,RAW,ENR or (Row 22) RICE,WHITE,MEDIUM-GRAIN,RAW,ENR \n",
    "\n",
    "There are nutritional differences between white and brown rice; Google says long grain white rice is more produced. Raw rice should be representative since cooked/cooking method is not specified. \n",
    "\n",
    "---\n",
    "\n",
    "Target: Eggs, hen, in shell\n",
    "Match: (Row 3) EGG,WHL,RAW,FRSH \n",
    "\n",
    "I interpret this description as a whole, raw, fresh chicken egg. \n",
    "\n",
    "---\n",
    "\n",
    "Target: Meat, chicken \n",
    "Match: (Row 8) CHICKEN,BROILERS OR FRYERS,MEAT&SKIN,RAW \n",
    "\n",
    "---\n",
    "\n",
    "Target: Meat, buffalo \n",
    "Match: (Row 1) GAME MEAT,BUFFALO,H20,RAW\n",
    "\n",
    "---\n",
    "\n",
    "Target: Meat, pig\n",
    "Match: (Row 197) PORK,FRESH,GROUND,RAW \n",
    "\n",
    "---\n",
    "\n",
    "Target: Milk, whole fresh buffalo \n",
    "Match: (Row 32) MILK,INDIAN BUFFALO,FLUID \n",
    "\n",
    "---\n",
    "\n",
    "Target: Cereals excluding rice \n",
    "Match: (Index in ABBREV: 20014) CORN GRAIN,YEL\n",
    "\n",
    "This one was not obvious. Guessed in order to move on. \n",
    "\n",
    "---\n",
    "\n",
    "Target: Meat, sheep \n",
    "Match: (Row 203) LAMB,AUSTRALIAN,GROUND,85% LN / 15% FAT,RAW or (Row 5) LAMB,DOM,COMP OF RTL CUTS,LN&FAT,1/4\"FAT,CHOIC,RAW \n",
    "\n",
    "Corrected: \n",
    "\n",
    "Match: (ABBREV 5322 / NDB_No 17224) LAMB,GROUND,RAW"
   ]
  },
  {
   "cell_type": "markdown",
   "id": "1f322f7f",
   "metadata": {},
   "source": [
    "The following code block will obtain each of the chosen descriptions (matches) and store then in a list in the order of the 'names' array. "
   ]
  },
  {
   "cell_type": "code",
   "execution_count": 169,
   "id": "25f4e896",
   "metadata": {},
   "outputs": [
    {
     "name": "stdout",
     "output_type": "stream",
     "text": [
      "['MILK,WHL,3.25% MILKFAT,WO/ ADDED VIT A & VITAMIN D', 'BEEF,GRASS-FED,GROUND,RAW', 'MILK,WHL,3.25% MILKFAT,WO/ ADDED VIT A & VITAMIN D', 'MILK,GOAT,FLUID,W/ ADDED VITAMIN D', 'GOAT,RAW', 'MILK,SHEEP,FLUID', 'RICE,WHITE,LONG-GRAIN,REG,RAW,ENR', 'EGG,WHL,RAW,FRSH', 'CHICKEN,BROILERS OR FRYERS,MEAT & SKN,RAW', 'GAME MEAT,BUFFALO,H2O,RAW', 'PORK,FRESH,GROUND,RAW', 'MILK,INDIAN BUFFALO,FLUID', 'CORN GRAIN,YEL', 'LAMB,GROUND,RAW']\n"
     ]
    }
   ],
   "source": [
    "matches = []\n",
    "\n",
    "matches.append(milk_desc.iloc[42]['Desc'])\n",
    "matches.append(beef_desc.iloc[8]['Desc'])\n",
    "matches.append(milk_desc.iloc[42]['Desc'])\n",
    "matches.append(milk_desc.iloc[28]['Desc'])\n",
    "matches.append(goat_desc.iloc[0]['Desc'])\n",
    "matches.append(milk_desc.iloc[31]['Desc'])\n",
    "matches.append(rice_desc.iloc[14]['Desc'])\n",
    "matches.append(eggs_desc.iloc[1]['Desc'])\n",
    "matches.append(chicken_desc.iloc[6]['Desc'])\n",
    "matches.append(buffalo_desc.iloc[0]['Desc'])\n",
    "matches.append(pig_desc.iloc[195]['Desc'])\n",
    "matches.append(milk_desc.iloc[30]['Desc'])\n",
    "matches.append(desc[6484]) \n",
    "matches.append(desc[5322])\n",
    "\n",
    "print(matches)"
   ]
  },
  {
   "cell_type": "markdown",
   "id": "45bfa6e8",
   "metadata": {},
   "source": [
    "The following code block will create a dataframe showing the mappings. "
   ]
  },
  {
   "cell_type": "code",
   "execution_count": 170,
   "id": "e2d3f370",
   "metadata": {},
   "outputs": [
    {
     "name": "stdout",
     "output_type": "stream",
     "text": [
      "                          col  \\\n",
      "0       Milk, whole fresh cow   \n",
      "1                Meat, cattle   \n",
      "2     Milk, whole fresh camel   \n",
      "3      Milk, whole fresh goat   \n",
      "4                  Meat, goat   \n",
      "5     Milk, whole fresh sheep   \n",
      "6                 Rice, paddy   \n",
      "7         Eggs, hen, in shell   \n",
      "8               Meat, chicken   \n",
      "9               Meat, buffalo   \n",
      "10                  Meat, pig   \n",
      "11  Milk, whole fresh buffalo   \n",
      "12     Cereals excluding rice   \n",
      "13                Meat, sheep   \n",
      "\n",
      "                                            Shrt_Desc  \n",
      "0   MILK,WHL,3.25% MILKFAT,WO/ ADDED VIT A & VITAM...  \n",
      "1                           BEEF,GRASS-FED,GROUND,RAW  \n",
      "2   MILK,WHL,3.25% MILKFAT,WO/ ADDED VIT A & VITAM...  \n",
      "3                  MILK,GOAT,FLUID,W/ ADDED VITAMIN D  \n",
      "4                                            GOAT,RAW  \n",
      "5                                    MILK,SHEEP,FLUID  \n",
      "6                   RICE,WHITE,LONG-GRAIN,REG,RAW,ENR  \n",
      "7                                    EGG,WHL,RAW,FRSH  \n",
      "8           CHICKEN,BROILERS OR FRYERS,MEAT & SKN,RAW  \n",
      "9                           GAME MEAT,BUFFALO,H2O,RAW  \n",
      "10                              PORK,FRESH,GROUND,RAW  \n",
      "11                          MILK,INDIAN BUFFALO,FLUID  \n",
      "12                                     CORN GRAIN,YEL  \n",
      "13                                    LAMB,GROUND,RAW  \n"
     ]
    }
   ],
   "source": [
    "mapping = pd.DataFrame(data={'col': names, 'Shrt_Desc': matches})\n",
    "print(mapping)"
   ]
  },
  {
   "cell_type": "markdown",
   "id": "03a38c05",
   "metadata": {},
   "source": [
    "The following code block will add columns indicating the dataframe index and NDB_No of each match."
   ]
  },
  {
   "cell_type": "code",
   "execution_count": 171,
   "id": "cdda2044",
   "metadata": {},
   "outputs": [],
   "source": [
    "Shrt_Desc = mapping['Shrt_Desc'].values\n",
    "NDB_No = [] \n",
    "index = []\n",
    "\n",
    "for x in Shrt_Desc:\n",
    "    # Get NBD_No \n",
    "    NDB_No.append(abb_df.loc[abb_df['Shrt_Desc'] == x][\"NDB_No\"].values[0])\n",
    "    # Get Index in dataframe \n",
    "    index.append(abb_df.loc[abb_df['Shrt_Desc'] == x][\"NDB_No\"].index[0])\n",
    "\n",
    "\n",
    "mapping['NDB_No'] = NDB_No\n",
    "mapping['df_index'] = index"
   ]
  },
  {
   "cell_type": "code",
   "execution_count": 172,
   "id": "e06db44c",
   "metadata": {},
   "outputs": [
    {
     "data": {
      "text/html": [
       "<div>\n",
       "<style scoped>\n",
       "    .dataframe tbody tr th:only-of-type {\n",
       "        vertical-align: middle;\n",
       "    }\n",
       "\n",
       "    .dataframe tbody tr th {\n",
       "        vertical-align: top;\n",
       "    }\n",
       "\n",
       "    .dataframe thead th {\n",
       "        text-align: right;\n",
       "    }\n",
       "</style>\n",
       "<table border=\"1\" class=\"dataframe\">\n",
       "  <thead>\n",
       "    <tr style=\"text-align: right;\">\n",
       "      <th></th>\n",
       "      <th>col</th>\n",
       "      <th>Shrt_Desc</th>\n",
       "      <th>NDB_No</th>\n",
       "      <th>df_index</th>\n",
       "    </tr>\n",
       "  </thead>\n",
       "  <tbody>\n",
       "    <tr>\n",
       "      <th>0</th>\n",
       "      <td>Milk, whole fresh cow</td>\n",
       "      <td>MILK,WHL,3.25% MILKFAT,WO/ ADDED VIT A &amp; VITAM...</td>\n",
       "      <td>1211</td>\n",
       "      <td>179</td>\n",
       "    </tr>\n",
       "    <tr>\n",
       "      <th>1</th>\n",
       "      <td>Meat, cattle</td>\n",
       "      <td>BEEF,GRASS-FED,GROUND,RAW</td>\n",
       "      <td>13047</td>\n",
       "      <td>3748</td>\n",
       "    </tr>\n",
       "    <tr>\n",
       "      <th>2</th>\n",
       "      <td>Milk, whole fresh camel</td>\n",
       "      <td>MILK,WHL,3.25% MILKFAT,WO/ ADDED VIT A &amp; VITAM...</td>\n",
       "      <td>1211</td>\n",
       "      <td>179</td>\n",
       "    </tr>\n",
       "    <tr>\n",
       "      <th>3</th>\n",
       "      <td>Milk, whole fresh goat</td>\n",
       "      <td>MILK,GOAT,FLUID,W/ ADDED VITAMIN D</td>\n",
       "      <td>1106</td>\n",
       "      <td>94</td>\n",
       "    </tr>\n",
       "    <tr>\n",
       "      <th>4</th>\n",
       "      <td>Meat, goat</td>\n",
       "      <td>GOAT,RAW</td>\n",
       "      <td>17168</td>\n",
       "      <td>5266</td>\n",
       "    </tr>\n",
       "    <tr>\n",
       "      <th>5</th>\n",
       "      <td>Milk, whole fresh sheep</td>\n",
       "      <td>MILK,SHEEP,FLUID</td>\n",
       "      <td>1109</td>\n",
       "      <td>97</td>\n",
       "    </tr>\n",
       "    <tr>\n",
       "      <th>6</th>\n",
       "      <td>Rice, paddy</td>\n",
       "      <td>RICE,WHITE,LONG-GRAIN,REG,RAW,ENR</td>\n",
       "      <td>20044</td>\n",
       "      <td>6510</td>\n",
       "    </tr>\n",
       "    <tr>\n",
       "      <th>7</th>\n",
       "      <td>Eggs, hen, in shell</td>\n",
       "      <td>EGG,WHL,RAW,FRSH</td>\n",
       "      <td>1123</td>\n",
       "      <td>111</td>\n",
       "    </tr>\n",
       "    <tr>\n",
       "      <th>8</th>\n",
       "      <td>Meat, chicken</td>\n",
       "      <td>CHICKEN,BROILERS OR FRYERS,MEAT &amp; SKN,RAW</td>\n",
       "      <td>5006</td>\n",
       "      <td>828</td>\n",
       "    </tr>\n",
       "    <tr>\n",
       "      <th>9</th>\n",
       "      <td>Meat, buffalo</td>\n",
       "      <td>GAME MEAT,BUFFALO,H2O,RAW</td>\n",
       "      <td>17160</td>\n",
       "      <td>5258</td>\n",
       "    </tr>\n",
       "    <tr>\n",
       "      <th>10</th>\n",
       "      <td>Meat, pig</td>\n",
       "      <td>PORK,FRESH,GROUND,RAW</td>\n",
       "      <td>10219</td>\n",
       "      <td>2666</td>\n",
       "    </tr>\n",
       "    <tr>\n",
       "      <th>11</th>\n",
       "      <td>Milk, whole fresh buffalo</td>\n",
       "      <td>MILK,INDIAN BUFFALO,FLUID</td>\n",
       "      <td>1108</td>\n",
       "      <td>96</td>\n",
       "    </tr>\n",
       "    <tr>\n",
       "      <th>12</th>\n",
       "      <td>Cereals excluding rice</td>\n",
       "      <td>CORN GRAIN,YEL</td>\n",
       "      <td>20014</td>\n",
       "      <td>6484</td>\n",
       "    </tr>\n",
       "    <tr>\n",
       "      <th>13</th>\n",
       "      <td>Meat, sheep</td>\n",
       "      <td>LAMB,GROUND,RAW</td>\n",
       "      <td>17224</td>\n",
       "      <td>5322</td>\n",
       "    </tr>\n",
       "  </tbody>\n",
       "</table>\n",
       "</div>"
      ],
      "text/plain": [
       "                          col  \\\n",
       "0       Milk, whole fresh cow   \n",
       "1                Meat, cattle   \n",
       "2     Milk, whole fresh camel   \n",
       "3      Milk, whole fresh goat   \n",
       "4                  Meat, goat   \n",
       "5     Milk, whole fresh sheep   \n",
       "6                 Rice, paddy   \n",
       "7         Eggs, hen, in shell   \n",
       "8               Meat, chicken   \n",
       "9               Meat, buffalo   \n",
       "10                  Meat, pig   \n",
       "11  Milk, whole fresh buffalo   \n",
       "12     Cereals excluding rice   \n",
       "13                Meat, sheep   \n",
       "\n",
       "                                            Shrt_Desc  NDB_No  df_index  \n",
       "0   MILK,WHL,3.25% MILKFAT,WO/ ADDED VIT A & VITAM...    1211       179  \n",
       "1                           BEEF,GRASS-FED,GROUND,RAW   13047      3748  \n",
       "2   MILK,WHL,3.25% MILKFAT,WO/ ADDED VIT A & VITAM...    1211       179  \n",
       "3                  MILK,GOAT,FLUID,W/ ADDED VITAMIN D    1106        94  \n",
       "4                                            GOAT,RAW   17168      5266  \n",
       "5                                    MILK,SHEEP,FLUID    1109        97  \n",
       "6                   RICE,WHITE,LONG-GRAIN,REG,RAW,ENR   20044      6510  \n",
       "7                                    EGG,WHL,RAW,FRSH    1123       111  \n",
       "8           CHICKEN,BROILERS OR FRYERS,MEAT & SKN,RAW    5006       828  \n",
       "9                           GAME MEAT,BUFFALO,H2O,RAW   17160      5258  \n",
       "10                              PORK,FRESH,GROUND,RAW   10219      2666  \n",
       "11                          MILK,INDIAN BUFFALO,FLUID    1108        96  \n",
       "12                                     CORN GRAIN,YEL   20014      6484  \n",
       "13                                    LAMB,GROUND,RAW   17224      5322  "
      ]
     },
     "execution_count": 172,
     "metadata": {},
     "output_type": "execute_result"
    }
   ],
   "source": [
    "mapping"
   ]
  },
  {
   "cell_type": "markdown",
   "id": "b85aa93e",
   "metadata": {},
   "source": [
    "The following code block will output this as a csv to be shared. "
   ]
  },
  {
   "cell_type": "code",
   "execution_count": 174,
   "id": "a42745c4",
   "metadata": {},
   "outputs": [],
   "source": [
    "mapping.to_csv(path_or_buf=\"data/mapping.csv\")"
   ]
  }
 ],
 "metadata": {
  "kernelspec": {
   "display_name": "Python 3 (ipykernel)",
   "language": "python",
   "name": "python3"
  },
  "language_info": {
   "codemirror_mode": {
    "name": "ipython",
    "version": 3
   },
   "file_extension": ".py",
   "mimetype": "text/x-python",
   "name": "python",
   "nbconvert_exporter": "python",
   "pygments_lexer": "ipython3",
   "version": "3.9.5"
  }
 },
 "nbformat": 4,
 "nbformat_minor": 5
}
